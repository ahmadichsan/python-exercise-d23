{
 "cells": [
  {
   "cell_type": "markdown",
   "id": "c6466255",
   "metadata": {
    "id": "c6466255"
   },
   "source": [
    "**Exercise Week 9**\n",
    "\n",
    "**Author: Ahmad Ichsan Baihaqi**\n",
    "\n",
    "**Email: ahmadichsanbaihaqi@gmail.com**"
   ]
  },
  {
   "cell_type": "markdown",
   "id": "3a19695c",
   "metadata": {
    "id": "3a19695c"
   },
   "source": [
    "### Question 1 "
   ]
  },
  {
   "cell_type": "code",
   "execution_count": 5,
   "id": "34c5e1be",
   "metadata": {
    "id": "34c5e1be"
   },
   "outputs": [],
   "source": [
    "import numpy as np"
   ]
  },
  {
   "cell_type": "markdown",
   "id": "ce57b62e",
   "metadata": {
    "id": "ce57b62e"
   },
   "source": [
    "Your function will be called `display_max`. Your input will be a `numpy array`. Your output will be to tell us at which index is the maximum value of each row. Separate your output for each row with commas.\n",
    "\n",
    "If there are more than one maximum values, only tell us the position of the FIRST occurence. \n",
    "\n",
    "#### Example 1\n",
    "\n",
    "Input array: `[[1,2,3,4,3], [5,10,8,3,2], [-5,7,8.4,1,0]]`\n",
    "\n",
    "Output: 3, 1, 2\n",
    "\n",
    "Explanation:\n",
    "\n",
    "- The first row, `[1,2,3,4,3]`, has the maximum value of `4` at index = 3 (Remember! This is Python. Index starts at 0)\n",
    "\n",
    "- The second row, `[5,10,8,3,2]`, has the maximum value of `10` at index = 1\n",
    "\n",
    "- The third row, `[-5,7,8.4,1,0]`, has the maximum value of `8.4` at index = 2\n",
    "\n",
    "So, your output should be '3,1,2'\n",
    "\n",
    "#### Example 2\n",
    "\n",
    "Input array = `[[5,10,1,3], [1,5,1,5], [0,3,1,8]]`\n",
    "\n",
    "Output: 1,1,3\n",
    "\n",
    "Explanation:\n",
    "\n",
    "- The first row, `[5,10,1,3]` has the maximum value of `10` at index = 1\n",
    "- The second row, `[1,5,1,5]` has the maximum value of `5` at index = 1, 3. But we only need to print the first occurence, so we only print index = 1. \n",
    "- The third row, `[0,3,1,8]` has the maximum value of `8` at index = 3.\n",
    "\n",
    "So, your output should be '1,1,3'\n",
    "\n",
    "#### Constrains:\n",
    "- Number of rows could be any integer. We can have input array of any shape and sizes. "
   ]
  },
  {
   "cell_type": "code",
   "execution_count": 19,
   "id": "afc8949f",
   "metadata": {
    "id": "afc8949f"
   },
   "outputs": [],
   "source": [
    "def display_max(input_array):\n",
    "    max_index = []\n",
    "    \n",
    "    for item in input_array:\n",
    "        max_value = max(item)\n",
    "        \n",
    "        max_value_index = item.index(max_value)\n",
    "        \n",
    "        max_index.append(max_value_index)\n",
    "        \n",
    "    return (','.join([str(int) for int in max_index]))"
   ]
  },
  {
   "cell_type": "code",
   "execution_count": 20,
   "id": "1029b604",
   "metadata": {},
   "outputs": [
    {
     "data": {
      "text/plain": [
       "'3,1,2'"
      ]
     },
     "execution_count": 20,
     "metadata": {},
     "output_type": "execute_result"
    }
   ],
   "source": [
    "display_max([[1,2,3,4,3], [5,10,8,3,2], [-5,7,8.4,1,0]])"
   ]
  },
  {
   "cell_type": "code",
   "execution_count": 21,
   "id": "99b9e373",
   "metadata": {},
   "outputs": [
    {
     "data": {
      "text/plain": [
       "'1,1,3'"
      ]
     },
     "execution_count": 21,
     "metadata": {},
     "output_type": "execute_result"
    }
   ],
   "source": [
    "display_max([[5,10,1,3], [1,5,1,5], [0,3,1,8]])"
   ]
  },
  {
   "cell_type": "markdown",
   "id": "56ec00a5",
   "metadata": {
    "id": "56ec00a5"
   },
   "source": [
    "### Numpy Question 2 \n"
   ]
  },
  {
   "cell_type": "markdown",
   "id": "a93c3748",
   "metadata": {
    "id": "a93c3748"
   },
   "source": [
    "##### Reminder for Class Managers and Students. ####\n",
    "\n",
    "If the solution has looping `for`, `while`, you do not get full points. The aim of this exercise is to avoid looping while doing things that require certain conditions."
   ]
  },
  {
   "cell_type": "markdown",
   "id": "ab8fc5f3",
   "metadata": {
    "id": "ab8fc5f3"
   },
   "source": [
    "#### Instructions: ####"
   ]
  },
  {
   "cell_type": "markdown",
   "id": "95fe6946",
   "metadata": {
    "id": "95fe6946"
   },
   "source": [
    "Your function should be called `grade`. Your input will be an array where each rows shows the score of a student. Your output will be an array WITH THE EXACT SAME SIZE as the input array, but only filled with 'P' and 'F'.\n",
    "\n",
    "- If the score is >= 70, then for that test, the student passes. We give the symbol 'P' to indicate that the student passes.\n",
    "- If the score is < 70, then for that test, the student fails. We give the symbol 'F', to indicate that the student fails."
   ]
  },
  {
   "cell_type": "markdown",
   "id": "7a53a67f",
   "metadata": {
    "id": "7a53a67f"
   },
   "source": [
    "#### Example 1:"
   ]
  },
  {
   "cell_type": "code",
   "execution_count": 28,
   "id": "04e3a36f",
   "metadata": {
    "id": "04e3a36f",
    "outputId": "f91597e3-b44f-46b2-da4a-bd28f9931444"
   },
   "outputs": [
    {
     "data": {
      "text/plain": [
       "array([[ 80,  50,  80,  60,  70],\n",
       "       [100,  90,  80,  70,  50],\n",
       "       [ 70,  70,  60,  50,  85]])"
      ]
     },
     "execution_count": 28,
     "metadata": {},
     "output_type": "execute_result"
    }
   ],
   "source": [
    "input_array1 = np.array([[80,50,80,60,70],\n",
    "                       [100,90,80,70,50],\n",
    "                       [70,70,60,50,85]])\n",
    "input_array1"
   ]
  },
  {
   "cell_type": "markdown",
   "id": "a38c80f4",
   "metadata": {
    "id": "a38c80f4"
   },
   "source": [
    "If the input is like the above array, then it means we have `3` students. Each student has `5` scores.\n",
    "\n",
    "- The first student's scores are: 80, 50, 80, 60, 70. From first to last, the student Pass, Fail, Pass, Fail, Pass\n",
    "- The second student's scores are: 100, 90, 80, 70, 50. From first to last, the student Pass, Pass, Pass, Pass, Fail\n",
    "- The third student's scores are: 70, 70, 60, 50, 80. From first to last, the student Pass, Pass, Fail, Fail, Pass"
   ]
  },
  {
   "cell_type": "markdown",
   "id": "b04480c7",
   "metadata": {
    "id": "b04480c7"
   },
   "source": [
    "Then, when you do `grade(input_array)`,  your output should be like this:\n",
    "`[[P,F,P,F,P],[P,P,P,P,F],[P,P,F,F,P]]`"
   ]
  },
  {
   "cell_type": "markdown",
   "id": "f04f7a81",
   "metadata": {
    "id": "f04f7a81"
   },
   "source": [
    "#### Example 2:"
   ]
  },
  {
   "cell_type": "code",
   "execution_count": 29,
   "id": "4fed75f0",
   "metadata": {
    "id": "4fed75f0",
    "outputId": "599e332c-90f7-4b82-fcc3-062fbe3ce9a2"
   },
   "outputs": [
    {
     "data": {
      "text/plain": [
       "array([[100,  50, 100],\n",
       "       [ 70,  70,  70],\n",
       "       [ 40,  80,  40],\n",
       "       [ 50,  55,  80]])"
      ]
     },
     "execution_count": 29,
     "metadata": {},
     "output_type": "execute_result"
    }
   ],
   "source": [
    "input_array2 = np.array([[100,50,100],\n",
    "                       [70,70,70],\n",
    "                       [40,80,40],\n",
    "                       [50,55,80]])\n",
    "input_array2"
   ]
  },
  {
   "cell_type": "markdown",
   "id": "5c41c5f8",
   "metadata": {
    "id": "5c41c5f8"
   },
   "source": [
    "If the input is like the above array, then it means we have `4` students. Each student has `3` scores. Then, when you do `grade(input_array)`,  your output should be like this:"
   ]
  },
  {
   "cell_type": "markdown",
   "id": "1519c86f",
   "metadata": {
    "id": "1519c86f"
   },
   "source": [
    "`[[P,F,P], [P,P,P], [F,P,F], [F,F,P]]`"
   ]
  },
  {
   "cell_type": "code",
   "execution_count": 30,
   "id": "f98be5ff",
   "metadata": {
    "id": "f98be5ff"
   },
   "outputs": [],
   "source": [
    "def grade(input_array):\n",
    "    return np.where(input_array >= 70, \"P\", \"F\").tolist()"
   ]
  },
  {
   "cell_type": "code",
   "execution_count": 31,
   "id": "6271eaf5",
   "metadata": {
    "id": "6271eaf5"
   },
   "outputs": [
    {
     "data": {
      "text/plain": [
       "[['P', 'F', 'P', 'F', 'P'],\n",
       " ['P', 'P', 'P', 'P', 'F'],\n",
       " ['P', 'P', 'F', 'F', 'P']]"
      ]
     },
     "execution_count": 31,
     "metadata": {},
     "output_type": "execute_result"
    }
   ],
   "source": [
    "grade(input_array1)"
   ]
  },
  {
   "cell_type": "code",
   "execution_count": 32,
   "id": "ba96652f",
   "metadata": {},
   "outputs": [
    {
     "data": {
      "text/plain": [
       "[['P', 'F', 'P'], ['P', 'P', 'P'], ['F', 'P', 'F'], ['F', 'F', 'P']]"
      ]
     },
     "execution_count": 32,
     "metadata": {},
     "output_type": "execute_result"
    }
   ],
   "source": [
    "grade(input_array2)"
   ]
  },
  {
   "cell_type": "markdown",
   "id": "4062c7fe",
   "metadata": {
    "id": "4062c7fe"
   },
   "source": [
    "### Numpy Question 3 "
   ]
  },
  {
   "cell_type": "markdown",
   "id": "2467cc66",
   "metadata": {
    "id": "2467cc66"
   },
   "source": [
    "Your function name should be called `one_hot`, and the input of your function is a numpy array. \n",
    "\n",
    "In this task, you are asked to convert an array of integers into one hot encoding. \n",
    "\n",
    "This is useful in machine learning and even deep learning cases, in which we want to do feature engineering, represent categorical classes, etc. \n",
    "\n",
    "Resource on one-hot-encoding: https://machinelearningmastery.com/why-one-hot-encode-data-in-machine-learning/"
   ]
  },
  {
   "cell_type": "markdown",
   "id": "68c5968a",
   "metadata": {
    "id": "68c5968a"
   },
   "source": [
    "#### Example 1:\n",
    "\n",
    "If the input array is `[2,3,1,2]` then the one-hot encoding version of it is: \n",
    "\n",
    "`[[0,1,0], [0,0,1], [1,0,0], [0,1,0]]`\n",
    "\n",
    "Explanation: there are 3 unique integers: 1, 2, and 3. If we want to represent them with one-hot encoding, we have to represent them in `0 and 1`. \n",
    "\n",
    "Because there are 3 unique integers, we represent them in 3 sequences of `0 and 1`. \n",
    "\n",
    "1 is represented as `[1, 0, 0]`\n",
    "2 is represented as `[0, 1, 0]`\n",
    "3 is represented as `[0, 0, 1]`\n",
    "\n",
    "So, if the `input_array` is `np.array([2,3,1,2])`\n",
    "And the array is passed into your function..\n",
    "\n",
    "`one_hot(input_array)` equals to `array([[0,1,0], [0,0,1], [1,0,0], [0,1,0]])`\n",
    "\n",
    "#### Example 2\n",
    "\n",
    "If the input array is `[4,2,1,3]` then the one-hot encoding version of it is: \n",
    "\n",
    "`[[0,0,0,1], [0,1,0,0], [1,0,0,0], [0,0,1,0]]`\n",
    "\n",
    "Explanation: there are 4 unique integers: 1, 2, 3, and 4. If we want to represent them with one-hot encoding, we have to represent them in `0 and 1`. \n",
    "\n",
    "Because there are 4 unique integers, we represent them in 4 sequences of `0 and 1`. \n",
    "\n",
    "1 is represented as `[1, 0, 0, 0]`\n",
    "2 is represented as `[0, 1, 0, 0]`\n",
    "3 is represented as `[0, 0, 1, 0]`\n",
    "4 is represented as `[0, 0, 0, 1]`\n",
    "\n",
    "So, if the `input_array` is `np.array([4,2,1,3])`\n",
    "And the array is passed into your function..\n",
    "\n",
    "`one_hot(input_array)` equals to `array([[0,0,0,1], [0,1,0,0], [1,0,0,0], [0,0,1,0]])`\n",
    "\n",
    "\n",
    "#### Constrains:\n",
    "\n",
    "- Integers in the input array will start with 1. \n",
    "- Integers in the input array will not be zero or negative numbers.\n",
    "- Integers will not be skipped (for example, it is impossible for the input array to have [4,1,2] because 3 is missing).\n",
    "\n"
   ]
  },
  {
   "cell_type": "code",
   "execution_count": 97,
   "id": "551079f4",
   "metadata": {},
   "outputs": [],
   "source": [
    "from numpy import array\n",
    "from sklearn.preprocessing import LabelEncoder\n",
    "from sklearn.preprocessing import OneHotEncoder"
   ]
  },
  {
   "cell_type": "code",
   "execution_count": 98,
   "id": "bfc0fc16",
   "metadata": {
    "id": "bfc0fc16"
   },
   "outputs": [],
   "source": [
    "def one_hot(input_array):\n",
    "    # define example\n",
    "    values = np.array(input_array)\n",
    "\n",
    "    # integer encode\n",
    "    label_encoder = LabelEncoder()\n",
    "    integer_encoded = label_encoder.fit_transform(values)\n",
    "\n",
    "    # binary encode\n",
    "    onehot_encoder = OneHotEncoder(sparse=False)\n",
    "    integer_encoded = integer_encoded.reshape(len(integer_encoded), 1)\n",
    "    onehot_encoded = onehot_encoder.fit_transform(integer_encoded)\n",
    "    \n",
    "    return onehot_encoded"
   ]
  },
  {
   "cell_type": "code",
   "execution_count": 99,
   "id": "2b9f24ec",
   "metadata": {
    "id": "2b9f24ec"
   },
   "outputs": [
    {
     "data": {
      "text/plain": [
       "array([[0., 0., 0., 1.],\n",
       "       [0., 1., 0., 0.],\n",
       "       [1., 0., 0., 0.],\n",
       "       [0., 0., 1., 0.]])"
      ]
     },
     "execution_count": 99,
     "metadata": {},
     "output_type": "execute_result"
    }
   ],
   "source": [
    "one_hot([4,2,1,3])"
   ]
  },
  {
   "cell_type": "code",
   "execution_count": 100,
   "id": "af05d906",
   "metadata": {},
   "outputs": [
    {
     "data": {
      "text/plain": [
       "array([[0., 1., 0.],\n",
       "       [0., 0., 1.],\n",
       "       [1., 0., 0.],\n",
       "       [0., 1., 0.]])"
      ]
     },
     "execution_count": 100,
     "metadata": {},
     "output_type": "execute_result"
    }
   ],
   "source": [
    "one_hot([2,3,1,2])"
   ]
  }
 ],
 "metadata": {
  "colab": {
   "name": "Coding Exercise 9_Question.ipynb",
   "provenance": []
  },
  "kernelspec": {
   "display_name": "Python 3 (ipykernel)",
   "language": "python",
   "name": "python3"
  },
  "language_info": {
   "codemirror_mode": {
    "name": "ipython",
    "version": 3
   },
   "file_extension": ".py",
   "mimetype": "text/x-python",
   "name": "python",
   "nbconvert_exporter": "python",
   "pygments_lexer": "ipython3",
   "version": "3.8.2"
  }
 },
 "nbformat": 4,
 "nbformat_minor": 5
}
